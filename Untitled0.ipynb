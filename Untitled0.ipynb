{
  "nbformat": 4,
  "nbformat_minor": 0,
  "metadata": {
    "colab": {
      "provenance": [],
      "authorship_tag": "ABX9TyNI7Ub76HvEI1lgx0MNqcne",
      "include_colab_link": true
    },
    "kernelspec": {
      "name": "python3",
      "display_name": "Python 3"
    },
    "language_info": {
      "name": "python"
    }
  },
  "cells": [
    {
      "cell_type": "markdown",
      "metadata": {
        "id": "view-in-github",
        "colab_type": "text"
      },
      "source": [
        "<a href=\"https://colab.research.google.com/github/rociomedinaALFA/PROYECT-6/blob/main/Untitled0.ipynb\" target=\"_parent\"><img src=\"https://colab.research.google.com/assets/colab-badge.svg\" alt=\"Open In Colab\"/></a>"
      ]
    },
    {
      "cell_type": "code",
      "source": [],
      "metadata": {
        "id": "Sttgfmhqr_rG"
      },
      "execution_count": 1,
      "outputs": []
    },
    {
      "cell_type": "markdown",
      "metadata": {
        "id": "5705674c"
      },
      "source": [
        "Aquí tienes algunas preguntas potenciales para un test de personalidad enfocado en la tolerancia al riesgo motivacional para estudiantes de entre 20 y 30 años en Posadas, Misiones.\n",
        "\n",
        "**Importante:** Estas son solo ideas y no constituyen un test psicológico validado.\n",
        "\n",
        "**Área: Tolerancia al Riesgo en Decisiones Académicas**\n",
        "\n",
        "*   ¿Prefieres elegir materias que sabes que te resultarán fáciles o aquellas que representan un desafío mayor?\n",
        "*   Cuando un proyecto académico es muy difícil, ¿tiendes a buscar ayuda inmediatamente o intentas resolverlo por tu cuenta aunque implique un riesgo de no lograrlo?\n",
        "*   ¿Considerarías tomar un curso opcional que te interese mucho, aunque sepas que la carga de trabajo es significativamente mayor?\n",
        "*   Ante la posibilidad de presentar un trabajo innovador pero arriesgado (con potencial de alta o baja calificación), ¿qué opción elegirías?\n",
        "*   ¿Te sientes cómodo/a presentando tus ideas en clase, incluso si no estás completamente seguro/a de ellas?\n",
        "\n",
        "**Área: Tolerancia al Riesgo en Metas Personales y Profesionales**\n",
        "\n",
        "*   ¿Estarías dispuesto/a a cambiar de carrera o especialización si sientes que la nueva opción te apasiona más, aunque implique empezar de nuevo o enfrentar mayor incertidumbre laboral?\n",
        "*   ¿Te animarías a emprender un proyecto personal (ej. un negocio pequeño, un blog) que te entusiasma, aunque no tengas garantizado el éxito?\n",
        "*   ¿Qué tan cómodo/a te sientes saliendo de tu zona de confort para alcanzar una meta importante?\n",
        "*   ¿Considerarías mudarte a otra ciudad o país por una oportunidad de estudio o trabajo, a pesar de la incertidumbre que esto genera?\n",
        "*   ¿Preferirías un trabajo estable y seguro, o uno con mayor potencial de crecimiento pero también mayor riesgo?\n",
        "\n",
        "**Área: Tolerancia al Riesgo Social e Interpersonal**\n",
        "\n",
        "*   ¿Te resulta fácil iniciar conversaciones con personas que no conoces?\n",
        "*   ¿Estarías dispuesto/a a expresar una opinión impopular en un grupo si crees firmemente en ella?\n",
        "*   ¿Te animarías a participar en actividades sociales o eventos donde no conoces a nadie?\n",
        "*   Ante un desacuerdo, ¿tiendes a evitar la confrontación o a expresar tu punto de vista, incluso si genera tensión?\n",
        "*   ¿Qué tan cómodo/a te sientes al tomar la iniciativa en situaciones sociales o grupales?\n",
        "\n",
        "**Instrucciones Potenciales (para un test real):**\n",
        "\n",
        "Para cada pregunta, podrías usar una escala de respuesta, por ejemplo:\n",
        "\n",
        "*   Totalmente en desacuerdo\n",
        "*   En desacuerdo\n",
        "*   Neutral\n",
        "*   De acuerdo\n",
        "*   Totalmente de acuerdo\n",
        "\n",
        "O una escala de frecuencia:\n",
        "\n",
        "*   Nunca\n",
        "*   Rara vez\n",
        "*   A veces\n",
        "*   Frecuentemente\n",
        "*   Siempre\n",
        "\n",
        "Recuerda que la interpretación de las respuestas y la determinación de la \"tolerancia al riesgo motivacional\" requerirían un análisis profesional y la comparación con datos normativos de la población relevante."
      ]
    },
    {
      "cell_type": "code",
      "source": [],
      "metadata": {
        "id": "mlZ3AGsQu1Bx"
      },
      "execution_count": 1,
      "outputs": []
    },
    {
      "cell_type": "code",
      "execution_count": 2,
      "metadata": {
        "colab": {
          "base_uri": "https://localhost:8080/"
        },
        "id": "UNpWVUiMrGbJ",
        "outputId": "a6b7194c-1086-4f84-837f-6e3fad6ca896"
      },
      "outputs": [
        {
          "output_type": "execute_result",
          "data": {
            "text/plain": [
              "4"
            ]
          },
          "metadata": {},
          "execution_count": 2
        }
      ],
      "source": [
        "1+3"
      ]
    }
  ]
}